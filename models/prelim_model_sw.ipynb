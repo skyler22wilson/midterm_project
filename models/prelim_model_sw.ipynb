{
 "cells": [
  {
   "cell_type": "code",
   "execution_count": 15,
   "metadata": {},
   "outputs": [],
   "source": [
    "import pandas as pd\n",
    "import numpy as np\n",
    "from sklearn.linear_model import LinearRegression\n",
    "from sklearn.model_selection import train_test_split\n",
    "import statsmodels.api as sm"
   ]
  },
  {
   "cell_type": "code",
   "execution_count": 16,
   "metadata": {},
   "outputs": [
    {
     "data": {
      "text/plain": [
       "Index(['eventid', 'approxdate', 'extended', 'country', 'country_txt', 'region',\n",
       "       'region_txt', 'provstate', 'city', 'latitude', 'longitude',\n",
       "       'specificity', 'vicinity', 'crit1', 'crit2', 'crit3', 'doubtterr',\n",
       "       'multiple', 'success', 'suicide', 'attacktype1', 'attacktype1_txt',\n",
       "       'targtype1', 'targtype1_txt', 'targsubtype1', 'targsubtype1_txt',\n",
       "       'corp1', 'target1', 'natlty1', 'natlty1_txt', 'gname', 'motive',\n",
       "       'guncertain1', 'individual', 'nperps', 'nperpcap', 'weaptype1',\n",
       "       'weaptype1_txt', 'weapsubtype1', 'weapsubtype1_txt', 'weapdetail',\n",
       "       'nkill', 'nkillter', 'nwound', 'nwoundte', 'property', 'propextent',\n",
       "       'propvalue', 'ransom', 'ransomamt', 'ransompaid'],\n",
       "      dtype='object')"
      ]
     },
     "execution_count": 16,
     "metadata": {},
     "output_type": "execute_result"
    }
   ],
   "source": [
    "global_terrorism_model_df = pd.read_csv('/Users/skylerwilson/Desktop/Lighthouse_Labs/Projects/midterm_project/data/global_terrorism.csv')\n",
    "global_terrorism_model_df.drop(columns= ['Unnamed: 0'], inplace=True)\n",
    "global_terrorism_model_df.columns"
   ]
  },
  {
   "cell_type": "code",
   "execution_count": 17,
   "metadata": {},
   "outputs": [
    {
     "data": {
      "text/plain": [
       "eventid             False\n",
       "approxdate          False\n",
       "extended            False\n",
       "country             False\n",
       "country_txt         False\n",
       "region              False\n",
       "region_txt          False\n",
       "provstate            True\n",
       "city                 True\n",
       "latitude             True\n",
       "longitude            True\n",
       "specificity          True\n",
       "vicinity            False\n",
       "crit1               False\n",
       "crit2               False\n",
       "crit3               False\n",
       "doubtterr            True\n",
       "multiple             True\n",
       "success             False\n",
       "suicide             False\n",
       "attacktype1         False\n",
       "attacktype1_txt     False\n",
       "targtype1           False\n",
       "targtype1_txt       False\n",
       "targsubtype1         True\n",
       "targsubtype1_txt     True\n",
       "corp1                True\n",
       "target1              True\n",
       "natlty1              True\n",
       "natlty1_txt          True\n",
       "gname               False\n",
       "motive              False\n",
       "guncertain1          True\n",
       "individual          False\n",
       "nperps               True\n",
       "nperpcap             True\n",
       "weaptype1           False\n",
       "weaptype1_txt       False\n",
       "weapsubtype1         True\n",
       "weapsubtype1_txt     True\n",
       "weapdetail           True\n",
       "nkill                True\n",
       "nkillter             True\n",
       "nwound               True\n",
       "nwoundte             True\n",
       "property            False\n",
       "propextent          False\n",
       "propvalue            True\n",
       "ransom              False\n",
       "ransomamt           False\n",
       "ransompaid           True\n",
       "dtype: bool"
      ]
     },
     "execution_count": 17,
     "metadata": {},
     "output_type": "execute_result"
    }
   ],
   "source": [
    "global_terrorism_model_df.isna().any()"
   ]
  },
  {
   "cell_type": "markdown",
   "metadata": {},
   "source": [
    "<h3>Preliminary Model<h3>"
   ]
  },
  {
   "cell_type": "markdown",
   "metadata": {},
   "source": [
    "<h5>Questions:</h5>\n",
    "\n",
    "1) Understand if there is a relationship between the target for terrorist attacks and other columns in the data set\n",
    "\n",
    "2) Predict what targets are most likely to be hit depending on location and other predictors\n",
    "\n",
    "3) what predictors are most important in predicting the target type"
   ]
  },
  {
   "cell_type": "code",
   "execution_count": 18,
   "metadata": {},
   "outputs": [],
   "source": [
    "# Drop the independent variable and non-numeric columns\n",
    "non_numeric_columns = global_terrorism_model_df.select_dtypes(exclude=['int64', 'float64']).columns\n",
    "columns_to_drop = ['targtype1', 'targtype1_txt', 'eventid'] + non_numeric_columns.to_list()\n",
    "\n",
    "# Drop the columns\n",
    "X_subset = global_terrorism_model_df.drop(columns=columns_to_drop)\n",
    "\n",
    "# Drop the columns with NaN\n",
    "X_subset = X_subset.dropna(axis=1)"
   ]
  },
  {
   "cell_type": "code",
   "execution_count": 19,
   "metadata": {},
   "outputs": [],
   "source": [
    "#define the data\n",
    "def linear_regression_model(X, y):\n",
    "\n",
    "    #split into training and testing data\n",
    "    X_train, X_test, y_train, y_test = train_test_split(X, y, test_size=0.2, random_state=42)\n",
    "\n",
    "    # Fit a model using statsmodels\n",
    "    model = sm.OLS(y_train, sm.add_constant(X_train))\n",
    "    results = model.fit()\n",
    "\n",
    "    # Evaluate the model on the testing data\n",
    "    y_pred = results.predict(sm.add_constant(X_test))\n",
    "\n",
    "    return results, y_pred"
   ]
  },
  {
   "cell_type": "code",
   "execution_count": 20,
   "metadata": {},
   "outputs": [],
   "source": [
    "#define data\n",
    "X = X_subset\n",
    "y = y = global_terrorism_model_df['targtype1']"
   ]
  },
  {
   "cell_type": "code",
   "execution_count": 21,
   "metadata": {},
   "outputs": [],
   "source": [
    "# Fit the model and make predictions\n",
    "model_results, y_pred = linear_regression_model(X, y)"
   ]
  },
  {
   "cell_type": "markdown",
   "metadata": {},
   "source": [
    "<h5>Evaluate the preliminary model</h5>"
   ]
  },
  {
   "cell_type": "code",
   "execution_count": 22,
   "metadata": {},
   "outputs": [
    {
     "name": "stdout",
     "output_type": "stream",
     "text": [
      "                            OLS Regression Results                            \n",
      "==============================================================================\n",
      "Dep. Variable:              targtype1   R-squared:                       0.082\n",
      "Model:                            OLS   Adj. R-squared:                  0.082\n",
      "Method:                 Least Squares   F-statistic:                     808.0\n",
      "Date:                Wed, 12 Jul 2023   Prob (F-statistic):               0.00\n",
      "Time:                        16:59:17   Log-Likelihood:            -4.7536e+05\n",
      "No. Observations:              145316   AIC:                         9.507e+05\n",
      "Df Residuals:                  145299   BIC:                         9.509e+05\n",
      "Df Model:                          16                                         \n",
      "Covariance Type:            nonrobust                                         \n",
      "===============================================================================\n",
      "                  coef    std err          t      P>|t|      [0.025      0.975]\n",
      "-------------------------------------------------------------------------------\n",
      "const          13.9158      0.275     50.640      0.000      13.377      14.454\n",
      "extended        0.0845      0.087      0.975      0.330      -0.085       0.254\n",
      "country        -0.0014      0.000     -9.200      0.000      -0.002      -0.001\n",
      "region          0.1089      0.006     18.248      0.000       0.097       0.121\n",
      "vicinity        0.7533      0.059     12.750      0.000       0.637       0.869\n",
      "crit1          -2.1320      0.157    -13.587      0.000      -2.440      -1.824\n",
      "crit2          -7.5929      0.201    -37.802      0.000      -7.987      -7.199\n",
      "crit3           4.9299      0.051     96.727      0.000       4.830       5.030\n",
      "success        -1.2883      0.054    -23.781      0.000      -1.394      -1.182\n",
      "suicide        -0.9787      0.090    -10.823      0.000      -1.156      -0.801\n",
      "attacktype1    -0.0016      0.012     -0.133      0.894      -0.025       0.022\n",
      "individual      0.3110      0.311      1.000      0.317      -0.299       0.921\n",
      "weaptype1       0.0488      0.010      4.750      0.000       0.029       0.069\n",
      "property       -0.0053      0.006     -0.946      0.344      -0.016       0.006\n",
      "propextent      0.1490      0.011     12.988      0.000       0.127       0.172\n",
      "ransom         -1.5130      0.208     -7.262      0.000      -1.921      -1.105\n",
      "ransomamt    -5.26e-09   5.86e-09     -0.898      0.369   -1.67e-08    6.23e-09\n",
      "==============================================================================\n",
      "Omnibus:                   123233.629   Durbin-Watson:                   2.001\n",
      "Prob(Omnibus):                  0.000   Jarque-Bera (JB):            10173.557\n",
      "Skew:                           0.253   Prob(JB):                         0.00\n",
      "Kurtosis:                       1.806   Cond. No.                     5.65e+07\n",
      "==============================================================================\n",
      "\n",
      "Notes:\n",
      "[1] Standard Errors assume that the covariance matrix of the errors is correctly specified.\n",
      "[2] The condition number is large, 5.65e+07. This might indicate that there are\n",
      "strong multicollinearity or other numerical problems.\n"
     ]
    }
   ],
   "source": [
    "#print the model summary to evaluate key coefficients\n",
    "print(model_results.summary())"
   ]
  },
  {
   "cell_type": "code",
   "execution_count": 23,
   "metadata": {},
   "outputs": [],
   "source": [
    "#employ backward stepwise regresion to fit the model better\n",
    "\n",
    "#drop column with highest p_value\n",
    "X_reg_1 = X_subset.drop(columns=['attacktype1'])\n",
    "\n",
    "#refit the model\n",
    "model_results, y_pred = linear_regression_model(X_reg_1, y)"
   ]
  },
  {
   "cell_type": "code",
   "execution_count": 24,
   "metadata": {},
   "outputs": [
    {
     "name": "stdout",
     "output_type": "stream",
     "text": [
      "                            OLS Regression Results                            \n",
      "==============================================================================\n",
      "Dep. Variable:              targtype1   R-squared:                       0.082\n",
      "Model:                            OLS   Adj. R-squared:                  0.082\n",
      "Method:                 Least Squares   F-statistic:                     861.8\n",
      "Date:                Wed, 12 Jul 2023   Prob (F-statistic):               0.00\n",
      "Time:                        16:59:17   Log-Likelihood:            -4.7536e+05\n",
      "No. Observations:              145316   AIC:                         9.507e+05\n",
      "Df Residuals:                  145300   BIC:                         9.509e+05\n",
      "Df Model:                          15                                         \n",
      "Covariance Type:            nonrobust                                         \n",
      "==============================================================================\n",
      "                 coef    std err          t      P>|t|      [0.025      0.975]\n",
      "------------------------------------------------------------------------------\n",
      "const         13.9177      0.274     50.717      0.000      13.380      14.456\n",
      "extended       0.0825      0.085      0.967      0.334      -0.085       0.250\n",
      "country       -0.0014      0.000     -9.200      0.000      -0.002      -0.001\n",
      "region         0.1089      0.006     18.248      0.000       0.097       0.121\n",
      "vicinity       0.7532      0.059     12.750      0.000       0.637       0.869\n",
      "crit1         -2.1324      0.157    -13.593      0.000      -2.440      -1.825\n",
      "crit2         -7.5933      0.201    -37.809      0.000      -7.987      -7.200\n",
      "crit3          4.9298      0.051     96.735      0.000       4.830       5.030\n",
      "success       -1.2887      0.054    -23.824      0.000      -1.395      -1.183\n",
      "suicide       -0.9787      0.090    -10.824      0.000      -1.156      -0.801\n",
      "individual     0.3101      0.311      0.997      0.319      -0.299       0.920\n",
      "weaptype1      0.0480      0.008      6.075      0.000       0.032       0.063\n",
      "property      -0.0053      0.006     -0.948      0.343      -0.016       0.006\n",
      "propextent     0.1490      0.011     12.997      0.000       0.126       0.171\n",
      "ransom        -1.5130      0.208     -7.261      0.000      -1.921      -1.105\n",
      "ransomamt   -5.26e-09   5.86e-09     -0.898      0.369   -1.67e-08    6.23e-09\n",
      "==============================================================================\n",
      "Omnibus:                   123225.162   Durbin-Watson:                   2.001\n",
      "Prob(Omnibus):                  0.000   Jarque-Bera (JB):            10173.317\n",
      "Skew:                           0.253   Prob(JB):                         0.00\n",
      "Kurtosis:                       1.806   Cond. No.                     5.64e+07\n",
      "==============================================================================\n",
      "\n",
      "Notes:\n",
      "[1] Standard Errors assume that the covariance matrix of the errors is correctly specified.\n",
      "[2] The condition number is large, 5.64e+07. This might indicate that there are\n",
      "strong multicollinearity or other numerical problems.\n"
     ]
    }
   ],
   "source": [
    "#print results\n",
    "print(model_results.summary())"
   ]
  },
  {
   "cell_type": "code",
   "execution_count": 25,
   "metadata": {},
   "outputs": [],
   "source": [
    "#follow steps of backward stepwise regression again\n",
    "\n",
    "#drop column with new highest p_value\n",
    "X_reg_2 = X_reg_1.drop(columns=['ransomamt'])\n",
    "\n",
    "#refit the model\n",
    "model_results, y_pred = linear_regression_model(X_reg_2, y)\n"
   ]
  },
  {
   "cell_type": "code",
   "execution_count": 26,
   "metadata": {},
   "outputs": [
    {
     "name": "stdout",
     "output_type": "stream",
     "text": [
      "                            OLS Regression Results                            \n",
      "==============================================================================\n",
      "Dep. Variable:              targtype1   R-squared:                       0.082\n",
      "Model:                            OLS   Adj. R-squared:                  0.082\n",
      "Method:                 Least Squares   F-statistic:                     923.3\n",
      "Date:                Wed, 12 Jul 2023   Prob (F-statistic):               0.00\n",
      "Time:                        16:59:17   Log-Likelihood:            -4.7536e+05\n",
      "No. Observations:              145316   AIC:                         9.507e+05\n",
      "Df Residuals:                  145301   BIC:                         9.509e+05\n",
      "Df Model:                          14                                         \n",
      "Covariance Type:            nonrobust                                         \n",
      "==============================================================================\n",
      "                 coef    std err          t      P>|t|      [0.025      0.975]\n",
      "------------------------------------------------------------------------------\n",
      "const         13.9184      0.274     50.720      0.000      13.380      14.456\n",
      "extended       0.0827      0.085      0.970      0.332      -0.084       0.250\n",
      "country       -0.0014      0.000     -9.200      0.000      -0.002      -0.001\n",
      "region         0.1089      0.006     18.246      0.000       0.097       0.121\n",
      "vicinity       0.7532      0.059     12.750      0.000       0.637       0.869\n",
      "crit1         -2.1329      0.157    -13.596      0.000      -2.440      -1.825\n",
      "crit2         -7.5933      0.201    -37.809      0.000      -7.987      -7.200\n",
      "crit3          4.9297      0.051     96.734      0.000       4.830       5.030\n",
      "success       -1.2887      0.054    -23.825      0.000      -1.395      -1.183\n",
      "suicide       -0.9787      0.090    -10.823      0.000      -1.156      -0.801\n",
      "individual     0.3102      0.311      0.997      0.319      -0.299       0.920\n",
      "weaptype1      0.0480      0.008      6.075      0.000       0.032       0.063\n",
      "property      -0.0053      0.006     -0.949      0.343      -0.016       0.006\n",
      "propextent     0.1490      0.011     12.997      0.000       0.127       0.171\n",
      "ransom        -1.5320      0.207     -7.391      0.000      -1.938      -1.126\n",
      "==============================================================================\n",
      "Omnibus:                   123236.819   Durbin-Watson:                   2.001\n",
      "Prob(Omnibus):                  0.000   Jarque-Bera (JB):            10173.641\n",
      "Skew:                           0.253   Prob(JB):                         0.00\n",
      "Kurtosis:                       1.806   Cond. No.                     3.41e+03\n",
      "==============================================================================\n",
      "\n",
      "Notes:\n",
      "[1] Standard Errors assume that the covariance matrix of the errors is correctly specified.\n",
      "[2] The condition number is large, 3.41e+03. This might indicate that there are\n",
      "strong multicollinearity or other numerical problems.\n"
     ]
    }
   ],
   "source": [
    "print(model_results.summary())"
   ]
  }
 ],
 "metadata": {
  "kernelspec": {
   "display_name": "base",
   "language": "python",
   "name": "python3"
  },
  "language_info": {
   "codemirror_mode": {
    "name": "ipython",
    "version": 3
   },
   "file_extension": ".py",
   "mimetype": "text/x-python",
   "name": "python",
   "nbconvert_exporter": "python",
   "pygments_lexer": "ipython3",
   "version": "3.10.10"
  },
  "orig_nbformat": 4
 },
 "nbformat": 4,
 "nbformat_minor": 2
}
